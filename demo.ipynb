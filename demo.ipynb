{
  "nbformat": 4,
  "nbformat_minor": 0,
  "metadata": {
    "colab": {
      "provenance": [],
      "collapsed_sections": [
        "c-MvXR6LcFX1"
      ]
    },
    "kernelspec": {
      "name": "python3",
      "display_name": "Python 3"
    },
    "language_info": {
      "name": "python"
    }
  },
  "cells": [
    {
      "cell_type": "markdown",
      "source": [
        "# 🚀 Installation Instructions\n",
        "\n",
        "**Please make sure to run the following cells first** before proceeding with any other steps.  \n",
        "This will set up all necessary dependencies and environment configurations for the project.\n"
      ],
      "metadata": {
        "id": "c-MvXR6LcFX1"
      }
    },
    {
      "cell_type": "code",
      "source": [
        "!wget https://github.com/SabrinaCesaroni/2nd-Hack-Nation-Global-AI-Hackathon/raw/refs/heads/main/protein_ss_classifier.pth"
      ],
      "metadata": {
        "colab": {
          "base_uri": "https://localhost:8080/"
        },
        "id": "9wI2MQYvXPzq",
        "outputId": "ddf83aa6-0e8d-4ae3-bfe4-a9eef2f9c67d"
      },
      "execution_count": null,
      "outputs": [
        {
          "output_type": "stream",
          "name": "stdout",
          "text": [
            "--2025-08-10 12:31:54--  https://github.com/SabrinaCesaroni/2nd-Hack-Nation-Global-AI-Hackathon/raw/refs/heads/main/protein_ss_classifier.pth\n",
            "Resolving github.com (github.com)... 140.82.113.3\n",
            "Connecting to github.com (github.com)|140.82.113.3|:443... connected.\n",
            "HTTP request sent, awaiting response... 302 Found\n",
            "Location: https://raw.githubusercontent.com/SabrinaCesaroni/2nd-Hack-Nation-Global-AI-Hackathon/refs/heads/main/protein_ss_classifier.pth [following]\n",
            "--2025-08-10 12:31:55--  https://raw.githubusercontent.com/SabrinaCesaroni/2nd-Hack-Nation-Global-AI-Hackathon/refs/heads/main/protein_ss_classifier.pth\n",
            "Resolving raw.githubusercontent.com (raw.githubusercontent.com)... 185.199.109.133, 185.199.110.133, 185.199.108.133, ...\n",
            "Connecting to raw.githubusercontent.com (raw.githubusercontent.com)|185.199.109.133|:443... connected.\n",
            "HTTP request sent, awaiting response... 200 OK\n",
            "Length: 5267338 (5.0M) [application/octet-stream]\n",
            "Saving to: ‘protein_ss_classifier.pth’\n",
            "\n",
            "protein_ss_classifi 100%[===================>]   5.02M  --.-KB/s    in 0.1s    \n",
            "\n",
            "2025-08-10 12:31:56 (42.1 MB/s) - ‘protein_ss_classifier.pth’ saved [5267338/5267338]\n",
            "\n"
          ]
        }
      ]
    },
    {
      "cell_type": "code",
      "execution_count": null,
      "metadata": {
        "colab": {
          "base_uri": "https://localhost:8080/"
        },
        "id": "4crRz20jUXa7",
        "outputId": "a34cc374-0f19-4926-f6a5-692bed27e6a8"
      },
      "outputs": [
        {
          "output_type": "stream",
          "name": "stdout",
          "text": [
            "\u001b[2K     \u001b[90m━━━━━━━━━━━━━━━━━━━━━━━━━━━━━━━━━━━━━━━━\u001b[0m \u001b[32m44.4/44.4 kB\u001b[0m \u001b[31m1.5 MB/s\u001b[0m eta \u001b[36m0:00:00\u001b[0m\n",
            "\u001b[2K   \u001b[90m━━━━━━━━━━━━━━━━━━━━━━━━━━━━━━━━━━━━━━━━\u001b[0m \u001b[32m2.4/2.4 MB\u001b[0m \u001b[31m25.2 MB/s\u001b[0m eta \u001b[36m0:00:00\u001b[0m\n",
            "\u001b[2K   \u001b[90m━━━━━━━━━━━━━━━━━━━━━━━━━━━━━━━━━━━━━━━━\u001b[0m \u001b[32m54.4/54.4 MB\u001b[0m \u001b[31m16.6 MB/s\u001b[0m eta \u001b[36m0:00:00\u001b[0m\n",
            "\u001b[2K   \u001b[90m━━━━━━━━━━━━━━━━━━━━━━━━━━━━━━━━━━━━━━━━\u001b[0m \u001b[32m363.4/363.4 MB\u001b[0m \u001b[31m4.3 MB/s\u001b[0m eta \u001b[36m0:00:00\u001b[0m\n",
            "\u001b[2K   \u001b[90m━━━━━━━━━━━━━━━━━━━━━━━━━━━━━━━━━━━━━━━━\u001b[0m \u001b[32m13.8/13.8 MB\u001b[0m \u001b[31m106.6 MB/s\u001b[0m eta \u001b[36m0:00:00\u001b[0m\n",
            "\u001b[2K   \u001b[90m━━━━━━━━━━━━━━━━━━━━━━━━━━━━━━━━━━━━━━━━\u001b[0m \u001b[32m24.6/24.6 MB\u001b[0m \u001b[31m81.5 MB/s\u001b[0m eta \u001b[36m0:00:00\u001b[0m\n",
            "\u001b[2K   \u001b[90m━━━━━━━━━━━━━━━━━━━━━━━━━━━━━━━━━━━━━━━━\u001b[0m \u001b[32m883.7/883.7 kB\u001b[0m \u001b[31m48.3 MB/s\u001b[0m eta \u001b[36m0:00:00\u001b[0m\n",
            "\u001b[2K   \u001b[90m━━━━━━━━━━━━━━━━━━━━━━━━━━━━━━━━━━━━━━━━\u001b[0m \u001b[32m664.8/664.8 MB\u001b[0m \u001b[31m2.2 MB/s\u001b[0m eta \u001b[36m0:00:00\u001b[0m\n",
            "\u001b[2K   \u001b[90m━━━━━━━━━━━━━━━━━━━━━━━━━━━━━━━━━━━━━━━━\u001b[0m \u001b[32m211.5/211.5 MB\u001b[0m \u001b[31m5.9 MB/s\u001b[0m eta \u001b[36m0:00:00\u001b[0m\n",
            "\u001b[2K   \u001b[90m━━━━━━━━━━━━━━━━━━━━━━━━━━━━━━━━━━━━━━━━\u001b[0m \u001b[32m56.3/56.3 MB\u001b[0m \u001b[31m16.0 MB/s\u001b[0m eta \u001b[36m0:00:00\u001b[0m\n",
            "\u001b[2K   \u001b[90m━━━━━━━━━━━━━━━━━━━━━━━━━━━━━━━━━━━━━━━━\u001b[0m \u001b[32m127.9/127.9 MB\u001b[0m \u001b[31m7.5 MB/s\u001b[0m eta \u001b[36m0:00:00\u001b[0m\n",
            "\u001b[2K   \u001b[90m━━━━━━━━━━━━━━━━━━━━━━━━━━━━━━━━━━━━━━━━\u001b[0m \u001b[32m207.5/207.5 MB\u001b[0m \u001b[31m6.5 MB/s\u001b[0m eta \u001b[36m0:00:00\u001b[0m\n",
            "\u001b[2K   \u001b[90m━━━━━━━━━━━━━━━━━━━━━━━━━━━━━━━━━━━━━━━━\u001b[0m \u001b[32m188.7/188.7 MB\u001b[0m \u001b[31m6.3 MB/s\u001b[0m eta \u001b[36m0:00:00\u001b[0m\n",
            "\u001b[2K   \u001b[90m━━━━━━━━━━━━━━━━━━━━━━━━━━━━━━━━━━━━━━━━\u001b[0m \u001b[32m21.1/21.1 MB\u001b[0m \u001b[31m87.3 MB/s\u001b[0m eta \u001b[36m0:00:00\u001b[0m\n",
            "\u001b[2K   \u001b[90m━━━━━━━━━━━━━━━━━━━━━━━━━━━━━━━━━━━━━━━━\u001b[0m \u001b[32m9.7/9.7 MB\u001b[0m \u001b[31m117.2 MB/s\u001b[0m eta \u001b[36m0:00:00\u001b[0m\n",
            "\u001b[2K   \u001b[90m━━━━━━━━━━━━━━━━━━━━━━━━━━━━━━━━━━━━━━━━\u001b[0m \u001b[32m3.3/3.3 MB\u001b[0m \u001b[31m101.1 MB/s\u001b[0m eta \u001b[36m0:00:00\u001b[0m\n",
            "\u001b[2K   \u001b[90m━━━━━━━━━━━━━━━━━━━━━━━━━━━━━━━━━━━━━━━━\u001b[0m \u001b[32m2.0/2.0 MB\u001b[0m \u001b[31m84.1 MB/s\u001b[0m eta \u001b[36m0:00:00\u001b[0m\n",
            "\u001b[2K   \u001b[90m━━━━━━━━━━━━━━━━━━━━━━━━━━━━━━━━━━━━━━━━\u001b[0m \u001b[32m1.6/1.6 MB\u001b[0m \u001b[31m82.5 MB/s\u001b[0m eta \u001b[36m0:00:00\u001b[0m\n",
            "\u001b[2K   \u001b[90m━━━━━━━━━━━━━━━━━━━━━━━━━━━━━━━━━━━━━━━━\u001b[0m \u001b[32m2.2/2.2 MB\u001b[0m \u001b[31m79.9 MB/s\u001b[0m eta \u001b[36m0:00:00\u001b[0m\n",
            "\u001b[2K   \u001b[90m━━━━━━━━━━━━━━━━━━━━━━━━━━━━━━━━━━━━━━━━\u001b[0m \u001b[32m1.6/1.6 MB\u001b[0m \u001b[31m81.9 MB/s\u001b[0m eta \u001b[36m0:00:00\u001b[0m\n",
            "\u001b[?25h"
          ]
        }
      ],
      "source": [
        "! pip install esm -q\n",
        "! pip install fair-esm -q"
      ]
    },
    {
      "cell_type": "code",
      "source": [
        "import esm\n",
        "import torch\n",
        "import torch.nn as nn\n",
        "import torch.optim as optim\n",
        "from torch.utils.data import Dataset, DataLoader\n",
        "import numpy as np\n",
        "from sklearn.metrics import accuracy_score, classification_report, confusion_matrix\n",
        "import matplotlib.pyplot as plt\n",
        "from tqdm import tqdm\n",
        "import warnings\n",
        "from IPython.display import display, Markdown\n",
        "warnings.filterwarnings('ignore')\n",
        "\n",
        "print(\"✅ Libraries imported successfully\")\n",
        "print(f\"PyTorch version: {torch.__version__}\")\n",
        "print(f\"CUDA available: {torch.cuda.is_available()}\")\n",
        "device = torch.device('cuda' if torch.cuda.is_available() else 'cpu')\n",
        "print(f\"Using device: {device}\")"
      ],
      "metadata": {
        "id": "OaxXyUZAUhA6"
      },
      "execution_count": null,
      "outputs": []
    },
    {
      "cell_type": "code",
      "source": [
        "model_esm, alphabet = esm.pretrained.esm2_t6_8M_UR50D()\n",
        "batch_converter = alphabet.get_batch_converter()\n",
        "model_esm.eval()\n",
        "model_esm = model_esm.to(device)\n",
        "embedding_dim = model_esm.embed_tokens.embedding_dim\n"
      ],
      "metadata": {
        "id": "z_rSE9xsZIVm"
      },
      "execution_count": null,
      "outputs": []
    },
    {
      "cell_type": "code",
      "source": [
        "def q8_to_q3(q8_onehot):\n",
        "    N, L, _ = q8_onehot.shape\n",
        "\n",
        "    q3_onehot = np.zeros((N, L, 4))\n",
        "\n",
        "    # Map H (Helix)\n",
        "    q3_onehot[:, :, 0] = q8_onehot[:, :, 3] + q8_onehot[:, :, 4] + q8_onehot[:, :, 5]\n",
        "    # Map E (Strand)\n",
        "    q3_onehot[:, :, 1] = q8_onehot[:, :, 1] + q8_onehot[:, :, 2]\n",
        "    # Map C (Coil)\n",
        "    q3_onehot[:, :, 2] = q8_onehot[:, :, 0] + q8_onehot[:, :, 6] + q8_onehot[:, :, 7]\n",
        "    # NoSeq\n",
        "    q3_onehot[:, :, 3] = q8_onehot[:, :, 8]\n",
        "\n",
        "    return q3_onehot\n",
        "aa_order = ['A', 'C', 'E', 'D', 'G', 'F', 'I', 'H', 'K', 'M', 'L',\n",
        "            'N', 'Q', 'P', 'S', 'R', 'T', 'W', 'V', 'Y', 'X', 'NoSeq']\n",
        "ss_order = ['H', 'E', 'C', 'NoSeq']\n",
        "\n",
        "def onehot_to_string_with_padding(onehot_array, order, noseq_index, pad_char):\n",
        "    indices = np.argmax(onehot_array, axis=2)\n",
        "    N, L = indices.shape\n",
        "    strings = []\n",
        "    for i in range(N):\n",
        "        seq_chars = []\n",
        "        for idx in indices[i]:\n",
        "            if idx == noseq_index:\n",
        "                seq_chars.append(pad_char)  # Replace NoSeq by pad_char\n",
        "            else:\n",
        "                seq_chars.append(order[idx])\n",
        "        strings.append(''.join(seq_chars))\n",
        "    return strings\n",
        "\n"
      ],
      "metadata": {
        "id": "FLyajAIzUjih"
      },
      "execution_count": null,
      "outputs": []
    },
    {
      "cell_type": "code",
      "source": [
        "print(embedding_dim)"
      ],
      "metadata": {
        "id": "Xa4Q4acEZQUj"
      },
      "execution_count": null,
      "outputs": []
    },
    {
      "cell_type": "code",
      "source": [
        "class ProteinSSClassifier(nn.Module):\n",
        "    def __init__(self, esm_dim=320, hidden_dim=256, num_classes=3, dropout=0.3):\n",
        "        super().__init__()\n",
        "        self.bilstm = nn.LSTM(esm_dim, hidden_dim, batch_first=True, bidirectional=True)\n",
        "        self.classifier = nn.Sequential(\n",
        "            nn.Linear(hidden_dim*2, hidden_dim),\n",
        "            nn.ReLU(),\n",
        "            nn.Dropout(dropout),\n",
        "            nn.Linear(hidden_dim, num_classes)\n",
        "        )\n",
        "\n",
        "    def forward(self, esm_embeddings):\n",
        "        x, _ = self.bilstm(esm_embeddings)   # (batch, seq_len, hidden_dim*2)\n",
        "        return self.classifier(x)\n",
        "\n",
        "print(\"✅ Classifier model defined\")\n",
        "print(\"Architecture: ESM embeddings -> Hidden layers -> 3 classes (H/E/C)\")\n"
      ],
      "metadata": {
        "id": "bBDy1EKMUuRU"
      },
      "execution_count": null,
      "outputs": []
    },
    {
      "cell_type": "code",
      "source": [
        "# Reuse your ProteinSSClassifier class definition from above\n",
        "# Make sure it's defined before loading\n",
        "\n",
        "# 1. Load checkpoint\n",
        "checkpoint = torch.load(\"protein_ss_classifier.pth\", weights_only=False, map_location=\"cpu\")\n",
        "\n",
        "# 2. Extract saved config\n",
        "cfg = checkpoint[\"model_config\"]\n",
        "\n",
        "# 3. Rebuild model using saved hyperparameters\n",
        "classifier = ProteinSSClassifier(\n",
        "    esm_dim=cfg[\"esm_dim\"],\n",
        "    hidden_dim=cfg[\"hidden_dim\"],\n",
        "    num_classes=cfg[\"num_classes\"],\n",
        "    dropout=cfg[\"dropout\"]\n",
        ")\n",
        "\n",
        "# 4. Load weights\n",
        "classifier.load_state_dict(checkpoint[\"model_state_dict\"])\n",
        "classifier.eval()\n",
        "\n",
        "print(\"✅ Model loaded successfully\")\n",
        "print(\"Best validation accuracy:\", checkpoint[\"training_history\"][\"best_val_acc\"])\n"
      ],
      "metadata": {
        "id": "5QmzfWT9UvDD"
      },
      "execution_count": null,
      "outputs": []
    },
    {
      "cell_type": "markdown",
      "source": [
        "# Predictor\n",
        "\n",
        "This software provides two ways to input protein sequences for secondary structure prediction:\n",
        "\n",
        "1. **Simple String Input:**  \n",
        "   Enter the amino acid sequence directly as a string of letters representing the protein chain.\n",
        "\n",
        "2. **FASTA File Input:**  \n",
        "   Upload protein sequences in FASTA format files, which include a header line followed by the sequence.\n",
        "\n",
        "Choose the input method that best fits your data format.\n"
      ],
      "metadata": {
        "id": "pS4w_VUKcNjM"
      }
    },
    {
      "cell_type": "code",
      "source": [
        "# @title ##run **ESM-Secondary Structure Predictor** from sequence\n",
        "# @markdown Insert the sequence here, then run the cells:\n",
        "def predict_secondary_structure(sequence, model_esm, classifier, batch_converter, device):\n",
        "    \"\"\"Predict secondary structure for a single protein sequence\"\"\"\n",
        "    classifier.eval()\n",
        "\n",
        "    # Prepare sequence\n",
        "    data = [(\"input_seq\", sequence)]\n",
        "    batch_labels, batch_strs, batch_tokens = batch_converter(data)\n",
        "    batch_tokens = batch_tokens.to(device)\n",
        "\n",
        "    with torch.no_grad():\n",
        "        # Get ESM embeddings\n",
        "        results = model_esm(batch_tokens, repr_layers=[model_esm.num_layers])\n",
        "        embeddings = results[\"representations\"][model_esm.num_layers]\n",
        "        embeddings = embeddings[:, 1:-1, :]  # Remove special tokens\n",
        "\n",
        "        # Get predictions\n",
        "        outputs = classifier(embeddings)\n",
        "        predictions = torch.argmax(outputs, dim=-1)\n",
        "\n",
        "        # Convert to letters\n",
        "        ss_map = {0: 'H', 1: 'E', 2: 'C'}\n",
        "        predicted_ss = ''.join([ss_map[int(pred)] for pred in predictions[0]])\n",
        "\n",
        "        # Get confidence scores\n",
        "        probs = torch.softmax(outputs, dim=-1)\n",
        "        confidence = torch.max(probs, dim=-1)[0].mean().item()\n",
        "\n",
        "    return predicted_ss, confidence\n",
        "\n",
        "# Example prediction\n",
        "print(\"🧬 Example Prediction\")\n",
        "print(\"=\" * 30)\n",
        "\n",
        "test_sequence = \"GWSTELEKHREELKEFLKKEGITNVEIRIDNGRLEVRVEGGTERLKRFLEELRQKLEKKGYTVDIKIE\" #@param {type:\"string\"}\n",
        "\n",
        "predicted_ss, confidence = predict_secondary_structure(test_sequence, model_esm, classifier, batch_converter, device)\n",
        "\n",
        "print(f\"Sequence:  {test_sequence}\")\n",
        "print(f\"Predicted: {predicted_ss}\")\n",
        "print(f\"Confidence: {confidence:.4f}\")\n",
        "\n",
        "# # Calculate accuracy for this example\n",
        "# example_acc = sum(1 for t, p in zip(true_ss, predicted_ss) if t == p) / len(true_ss)\n",
        "# print(f\"Example accuracy: {example_acc:.4f}\")\n",
        "\n"
      ],
      "metadata": {
        "colab": {
          "base_uri": "https://localhost:8080/"
        },
        "cellView": "form",
        "id": "lTDtK0odV5K_",
        "outputId": "9df45ec9-50fb-4290-8d79-ee89c689a756"
      },
      "execution_count": null,
      "outputs": [
        {
          "output_type": "stream",
          "name": "stdout",
          "text": [
            "🧬 Example Prediction\n",
            "==============================\n",
            "Sequence:  GWSTELEKHREELKEFLKKEGITNVEIRIDNGRLEVRVEGGTERLKRFLEELRQKLEKKGYTVDIKIE\n",
            "Predicted: CCHHHHHHHHHHHHHHHHHCCCCEEEEEECCCEEEEEECCCHHHHHHHHHHHHHHHHHCCCEEEEEEE\n",
            "Confidence: 0.9186\n"
          ]
        }
      ]
    },
    {
      "cell_type": "code",
      "source": [
        "# @title ##run **ESM-Secondary Structure Predictor** from FASTA file\n",
        "# @markdown Run the cells, then upload the FASTA file\n",
        "from google.colab import files\n",
        "\n",
        "# Upload FASTA file interactively\n",
        "uploaded = files.upload()\n",
        "\n",
        "# Assuming only one file uploaded:\n",
        "fasta_filename = next(iter(uploaded))\n",
        "\n",
        "def parse_fasta(filename):\n",
        "    sequence_lines = []\n",
        "    with open(filename, 'r') as f:\n",
        "        for line in f:\n",
        "            if line.startswith('>'):\n",
        "                # Skip header lines\n",
        "                continue\n",
        "            sequence_lines.append(line.strip())\n",
        "    # Join all sequence lines into one string\n",
        "    return ''.join(sequence_lines)\n",
        "\n",
        "# Parse uploaded FASTA file\n",
        "test_sequence = parse_fasta(fasta_filename)\n",
        "\n",
        "print(f\"Parsed AA sequence from {fasta_filename}:\")\n",
        "print(test_sequence)\n",
        "\n",
        "# Now run your prediction\n",
        "predicted_ss, confidence = predict_secondary_structure(test_sequence, model_esm, classifier, batch_converter, device)\n",
        "\n",
        "print(f\"\\nSequence:  {test_sequence}\")\n",
        "print(f\"Predicted: {predicted_ss}\")\n",
        "print(f\"Confidence: {confidence:.4f}\")\n"
      ],
      "metadata": {
        "colab": {
          "base_uri": "https://localhost:8080/",
          "height": 177
        },
        "id": "FA5OW_LGo20-",
        "outputId": "ebdb5d81-231b-434c-f06d-c31454e02541",
        "cellView": "form"
      },
      "execution_count": null,
      "outputs": [
        {
          "output_type": "display_data",
          "data": {
            "text/plain": [
              "<IPython.core.display.HTML object>"
            ],
            "text/html": [
              "\n",
              "     <input type=\"file\" id=\"files-84cb815b-adc1-4123-bdb7-bebad30d7fc1\" name=\"files[]\" multiple disabled\n",
              "        style=\"border:none\" />\n",
              "     <output id=\"result-84cb815b-adc1-4123-bdb7-bebad30d7fc1\">\n",
              "      Upload widget is only available when the cell has been executed in the\n",
              "      current browser session. Please rerun this cell to enable.\n",
              "      </output>\n",
              "      <script>// Copyright 2017 Google LLC\n",
              "//\n",
              "// Licensed under the Apache License, Version 2.0 (the \"License\");\n",
              "// you may not use this file except in compliance with the License.\n",
              "// You may obtain a copy of the License at\n",
              "//\n",
              "//      http://www.apache.org/licenses/LICENSE-2.0\n",
              "//\n",
              "// Unless required by applicable law or agreed to in writing, software\n",
              "// distributed under the License is distributed on an \"AS IS\" BASIS,\n",
              "// WITHOUT WARRANTIES OR CONDITIONS OF ANY KIND, either express or implied.\n",
              "// See the License for the specific language governing permissions and\n",
              "// limitations under the License.\n",
              "\n",
              "/**\n",
              " * @fileoverview Helpers for google.colab Python module.\n",
              " */\n",
              "(function(scope) {\n",
              "function span(text, styleAttributes = {}) {\n",
              "  const element = document.createElement('span');\n",
              "  element.textContent = text;\n",
              "  for (const key of Object.keys(styleAttributes)) {\n",
              "    element.style[key] = styleAttributes[key];\n",
              "  }\n",
              "  return element;\n",
              "}\n",
              "\n",
              "// Max number of bytes which will be uploaded at a time.\n",
              "const MAX_PAYLOAD_SIZE = 100 * 1024;\n",
              "\n",
              "function _uploadFiles(inputId, outputId) {\n",
              "  const steps = uploadFilesStep(inputId, outputId);\n",
              "  const outputElement = document.getElementById(outputId);\n",
              "  // Cache steps on the outputElement to make it available for the next call\n",
              "  // to uploadFilesContinue from Python.\n",
              "  outputElement.steps = steps;\n",
              "\n",
              "  return _uploadFilesContinue(outputId);\n",
              "}\n",
              "\n",
              "// This is roughly an async generator (not supported in the browser yet),\n",
              "// where there are multiple asynchronous steps and the Python side is going\n",
              "// to poll for completion of each step.\n",
              "// This uses a Promise to block the python side on completion of each step,\n",
              "// then passes the result of the previous step as the input to the next step.\n",
              "function _uploadFilesContinue(outputId) {\n",
              "  const outputElement = document.getElementById(outputId);\n",
              "  const steps = outputElement.steps;\n",
              "\n",
              "  const next = steps.next(outputElement.lastPromiseValue);\n",
              "  return Promise.resolve(next.value.promise).then((value) => {\n",
              "    // Cache the last promise value to make it available to the next\n",
              "    // step of the generator.\n",
              "    outputElement.lastPromiseValue = value;\n",
              "    return next.value.response;\n",
              "  });\n",
              "}\n",
              "\n",
              "/**\n",
              " * Generator function which is called between each async step of the upload\n",
              " * process.\n",
              " * @param {string} inputId Element ID of the input file picker element.\n",
              " * @param {string} outputId Element ID of the output display.\n",
              " * @return {!Iterable<!Object>} Iterable of next steps.\n",
              " */\n",
              "function* uploadFilesStep(inputId, outputId) {\n",
              "  const inputElement = document.getElementById(inputId);\n",
              "  inputElement.disabled = false;\n",
              "\n",
              "  const outputElement = document.getElementById(outputId);\n",
              "  outputElement.innerHTML = '';\n",
              "\n",
              "  const pickedPromise = new Promise((resolve) => {\n",
              "    inputElement.addEventListener('change', (e) => {\n",
              "      resolve(e.target.files);\n",
              "    });\n",
              "  });\n",
              "\n",
              "  const cancel = document.createElement('button');\n",
              "  inputElement.parentElement.appendChild(cancel);\n",
              "  cancel.textContent = 'Cancel upload';\n",
              "  const cancelPromise = new Promise((resolve) => {\n",
              "    cancel.onclick = () => {\n",
              "      resolve(null);\n",
              "    };\n",
              "  });\n",
              "\n",
              "  // Wait for the user to pick the files.\n",
              "  const files = yield {\n",
              "    promise: Promise.race([pickedPromise, cancelPromise]),\n",
              "    response: {\n",
              "      action: 'starting',\n",
              "    }\n",
              "  };\n",
              "\n",
              "  cancel.remove();\n",
              "\n",
              "  // Disable the input element since further picks are not allowed.\n",
              "  inputElement.disabled = true;\n",
              "\n",
              "  if (!files) {\n",
              "    return {\n",
              "      response: {\n",
              "        action: 'complete',\n",
              "      }\n",
              "    };\n",
              "  }\n",
              "\n",
              "  for (const file of files) {\n",
              "    const li = document.createElement('li');\n",
              "    li.append(span(file.name, {fontWeight: 'bold'}));\n",
              "    li.append(span(\n",
              "        `(${file.type || 'n/a'}) - ${file.size} bytes, ` +\n",
              "        `last modified: ${\n",
              "            file.lastModifiedDate ? file.lastModifiedDate.toLocaleDateString() :\n",
              "                                    'n/a'} - `));\n",
              "    const percent = span('0% done');\n",
              "    li.appendChild(percent);\n",
              "\n",
              "    outputElement.appendChild(li);\n",
              "\n",
              "    const fileDataPromise = new Promise((resolve) => {\n",
              "      const reader = new FileReader();\n",
              "      reader.onload = (e) => {\n",
              "        resolve(e.target.result);\n",
              "      };\n",
              "      reader.readAsArrayBuffer(file);\n",
              "    });\n",
              "    // Wait for the data to be ready.\n",
              "    let fileData = yield {\n",
              "      promise: fileDataPromise,\n",
              "      response: {\n",
              "        action: 'continue',\n",
              "      }\n",
              "    };\n",
              "\n",
              "    // Use a chunked sending to avoid message size limits. See b/62115660.\n",
              "    let position = 0;\n",
              "    do {\n",
              "      const length = Math.min(fileData.byteLength - position, MAX_PAYLOAD_SIZE);\n",
              "      const chunk = new Uint8Array(fileData, position, length);\n",
              "      position += length;\n",
              "\n",
              "      const base64 = btoa(String.fromCharCode.apply(null, chunk));\n",
              "      yield {\n",
              "        response: {\n",
              "          action: 'append',\n",
              "          file: file.name,\n",
              "          data: base64,\n",
              "        },\n",
              "      };\n",
              "\n",
              "      let percentDone = fileData.byteLength === 0 ?\n",
              "          100 :\n",
              "          Math.round((position / fileData.byteLength) * 100);\n",
              "      percent.textContent = `${percentDone}% done`;\n",
              "\n",
              "    } while (position < fileData.byteLength);\n",
              "  }\n",
              "\n",
              "  // All done.\n",
              "  yield {\n",
              "    response: {\n",
              "      action: 'complete',\n",
              "    }\n",
              "  };\n",
              "}\n",
              "\n",
              "scope.google = scope.google || {};\n",
              "scope.google.colab = scope.google.colab || {};\n",
              "scope.google.colab._files = {\n",
              "  _uploadFiles,\n",
              "  _uploadFilesContinue,\n",
              "};\n",
              "})(self);\n",
              "</script> "
            ]
          },
          "metadata": {}
        },
        {
          "output_type": "stream",
          "name": "stdout",
          "text": [
            "Saving rcsb_pdb_1MBN.fasta to rcsb_pdb_1MBN.fasta\n",
            "Parsed AA sequence from rcsb_pdb_1MBN.fasta:\n",
            "VLSEGEWQLVLHVWAKVEADVAGHGQDILIRLFKSHPETLEKFDRFKHLKTEAEMKASEDLKKHGVTVLTALGAILKKKGHHEAELKPLAQSHATKHKIPIKYLEFISEAIIHVLHSRHPGDFGADAQGAMNKALELFRKDIAAKYKELGYQG\n",
            "\n",
            "Sequence:  VLSEGEWQLVLHVWAKVEADVAGHGQDILIRLFKSHPETLEKFDRFKHLKTEAEMKASEDLKKHGVTVLTALGAILKKKGHHEAELKPLAQSHATKHKIPIKYLEFISEAIIHVLHSRHPGDFGADAQGAMNKALELFRKDIAAKYKELGYQG\n",
            "Predicted: CCCHHHHHHHHHHHHHHHHHHHHHHHHHHHHHHHCCHHHHHHHHHHHHCCCHHHHHHHHHHHHHCCHHHHHHHHHHHHCCCCHHHHHHHHHHHHHHCCCCHHHHHHHHHHHHHHHHCCCCCCCCHHHHHHHHHHHHHHHHHHHHHHHHCCCCC\n",
            "Confidence: 0.8859\n"
          ]
        }
      ]
    }
  ]
}