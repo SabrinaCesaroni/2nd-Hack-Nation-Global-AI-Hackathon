{
  "nbformat": 4,
  "nbformat_minor": 0,
  "metadata": {
    "colab": {
      "provenance": []
    },
    "kernelspec": {
      "name": "python3",
      "display_name": "Python 3"
    },
    "language_info": {
      "name": "python"
    }
  },
  "cells": [
    {
      "cell_type": "markdown",
      "source": [
        "# 🚀 Installation Instructions\n",
        "\n",
        "**Please make sure to run the following cells first** before proceeding with any other steps.  \n",
        "This will set up all necessary dependencies and environment configurations for the project.\n"
      ],
      "metadata": {
        "id": "c-MvXR6LcFX1"
      }
    },
    {
      "cell_type": "code",
      "source": [
        "!wget https://github.com/SabrinaCesaroni/2nd-Hack-Nation-Global-AI-Hackathon/raw/refs/heads/main/protein_ss_classifier.pth"
      ],
      "metadata": {
        "colab": {
          "base_uri": "https://localhost:8080/"
        },
        "id": "9wI2MQYvXPzq",
        "outputId": "83fd5762-4c72-4ba8-a313-dd4f49299e24"
      },
      "execution_count": 1,
      "outputs": [
        {
          "output_type": "stream",
          "name": "stdout",
          "text": [
            "--2025-08-10 11:21:58--  https://github.com/SabrinaCesaroni/2nd-Hack-Nation-Global-AI-Hackathon/raw/refs/heads/main/protein_ss_classifier.pth\n",
            "Resolving github.com (github.com)... 140.82.116.3\n",
            "Connecting to github.com (github.com)|140.82.116.3|:443... connected.\n",
            "HTTP request sent, awaiting response... 302 Found\n",
            "Location: https://raw.githubusercontent.com/SabrinaCesaroni/2nd-Hack-Nation-Global-AI-Hackathon/refs/heads/main/protein_ss_classifier.pth [following]\n",
            "--2025-08-10 11:21:59--  https://raw.githubusercontent.com/SabrinaCesaroni/2nd-Hack-Nation-Global-AI-Hackathon/refs/heads/main/protein_ss_classifier.pth\n",
            "Resolving raw.githubusercontent.com (raw.githubusercontent.com)... 185.199.110.133, 185.199.108.133, 185.199.111.133, ...\n",
            "Connecting to raw.githubusercontent.com (raw.githubusercontent.com)|185.199.110.133|:443... connected.\n",
            "HTTP request sent, awaiting response... 200 OK\n",
            "Length: 5267338 (5.0M) [application/octet-stream]\n",
            "Saving to: ‘protein_ss_classifier.pth’\n",
            "\n",
            "protein_ss_classifi 100%[===================>]   5.02M  --.-KB/s    in 0.07s   \n",
            "\n",
            "2025-08-10 11:21:59 (67.9 MB/s) - ‘protein_ss_classifier.pth’ saved [5267338/5267338]\n",
            "\n"
          ]
        }
      ]
    },
    {
      "cell_type": "code",
      "execution_count": 2,
      "metadata": {
        "colab": {
          "base_uri": "https://localhost:8080/"
        },
        "id": "4crRz20jUXa7",
        "outputId": "1d41878e-6e2e-437d-a6b9-06a5bb9910f2"
      },
      "outputs": [
        {
          "output_type": "stream",
          "name": "stdout",
          "text": [
            "\u001b[2K     \u001b[90m━━━━━━━━━━━━━━━━━━━━━━━━━━━━━━━━━━━━━━━━\u001b[0m \u001b[32m44.4/44.4 kB\u001b[0m \u001b[31m1.6 MB/s\u001b[0m eta \u001b[36m0:00:00\u001b[0m\n",
            "\u001b[2K   \u001b[90m━━━━━━━━━━━━━━━━━━━━━━━━━━━━━━━━━━━━━━━━\u001b[0m \u001b[32m2.4/2.4 MB\u001b[0m \u001b[31m43.8 MB/s\u001b[0m eta \u001b[36m0:00:00\u001b[0m\n",
            "\u001b[2K   \u001b[90m━━━━━━━━━━━━━━━━━━━━━━━━━━━━━━━━━━━━━━━━\u001b[0m \u001b[32m54.4/54.4 MB\u001b[0m \u001b[31m19.2 MB/s\u001b[0m eta \u001b[36m0:00:00\u001b[0m\n",
            "\u001b[2K   \u001b[90m━━━━━━━━━━━━━━━━━━━━━━━━━━━━━━━━━━━━━━━━\u001b[0m \u001b[32m363.4/363.4 MB\u001b[0m \u001b[31m4.6 MB/s\u001b[0m eta \u001b[36m0:00:00\u001b[0m\n",
            "\u001b[2K   \u001b[90m━━━━━━━━━━━━━━━━━━━━━━━━━━━━━━━━━━━━━━━━\u001b[0m \u001b[32m13.8/13.8 MB\u001b[0m \u001b[31m60.8 MB/s\u001b[0m eta \u001b[36m0:00:00\u001b[0m\n",
            "\u001b[2K   \u001b[90m━━━━━━━━━━━━━━━━━━━━━━━━━━━━━━━━━━━━━━━━\u001b[0m \u001b[32m24.6/24.6 MB\u001b[0m \u001b[31m34.0 MB/s\u001b[0m eta \u001b[36m0:00:00\u001b[0m\n",
            "\u001b[2K   \u001b[90m━━━━━━━━━━━━━━━━━━━━━━━━━━━━━━━━━━━━━━━━\u001b[0m \u001b[32m883.7/883.7 kB\u001b[0m \u001b[31m39.3 MB/s\u001b[0m eta \u001b[36m0:00:00\u001b[0m\n",
            "\u001b[2K   \u001b[90m━━━━━━━━━━━━━━━━━━━━━━━━━━━━━━━━━━━━━━━━\u001b[0m \u001b[32m664.8/664.8 MB\u001b[0m \u001b[31m2.1 MB/s\u001b[0m eta \u001b[36m0:00:00\u001b[0m\n",
            "\u001b[2K   \u001b[90m━━━━━━━━━━━━━━━━━━━━━━━━━━━━━━━━━━━━━━━━\u001b[0m \u001b[32m211.5/211.5 MB\u001b[0m \u001b[31m5.6 MB/s\u001b[0m eta \u001b[36m0:00:00\u001b[0m\n",
            "\u001b[2K   \u001b[90m━━━━━━━━━━━━━━━━━━━━━━━━━━━━━━━━━━━━━━━━\u001b[0m \u001b[32m56.3/56.3 MB\u001b[0m \u001b[31m11.1 MB/s\u001b[0m eta \u001b[36m0:00:00\u001b[0m\n",
            "\u001b[2K   \u001b[90m━━━━━━━━━━━━━━━━━━━━━━━━━━━━━━━━━━━━━━━━\u001b[0m \u001b[32m127.9/127.9 MB\u001b[0m \u001b[31m7.6 MB/s\u001b[0m eta \u001b[36m0:00:00\u001b[0m\n",
            "\u001b[2K   \u001b[90m━━━━━━━━━━━━━━━━━━━━━━━━━━━━━━━━━━━━━━━━\u001b[0m \u001b[32m207.5/207.5 MB\u001b[0m \u001b[31m5.8 MB/s\u001b[0m eta \u001b[36m0:00:00\u001b[0m\n",
            "\u001b[2K   \u001b[90m━━━━━━━━━━━━━━━━━━━━━━━━━━━━━━━━━━━━━━━━\u001b[0m \u001b[32m188.7/188.7 MB\u001b[0m \u001b[31m6.5 MB/s\u001b[0m eta \u001b[36m0:00:00\u001b[0m\n",
            "\u001b[2K   \u001b[90m━━━━━━━━━━━━━━━━━━━━━━━━━━━━━━━━━━━━━━━━\u001b[0m \u001b[32m21.1/21.1 MB\u001b[0m \u001b[31m89.0 MB/s\u001b[0m eta \u001b[36m0:00:00\u001b[0m\n",
            "\u001b[2K   \u001b[90m━━━━━━━━━━━━━━━━━━━━━━━━━━━━━━━━━━━━━━━━\u001b[0m \u001b[32m9.7/9.7 MB\u001b[0m \u001b[31m108.6 MB/s\u001b[0m eta \u001b[36m0:00:00\u001b[0m\n",
            "\u001b[2K   \u001b[90m━━━━━━━━━━━━━━━━━━━━━━━━━━━━━━━━━━━━━━━━\u001b[0m \u001b[32m3.3/3.3 MB\u001b[0m \u001b[31m85.0 MB/s\u001b[0m eta \u001b[36m0:00:00\u001b[0m\n",
            "\u001b[2K   \u001b[90m━━━━━━━━━━━━━━━━━━━━━━━━━━━━━━━━━━━━━━━━\u001b[0m \u001b[32m2.0/2.0 MB\u001b[0m \u001b[31m73.7 MB/s\u001b[0m eta \u001b[36m0:00:00\u001b[0m\n",
            "\u001b[2K   \u001b[90m━━━━━━━━━━━━━━━━━━━━━━━━━━━━━━━━━━━━━━━━\u001b[0m \u001b[32m1.6/1.6 MB\u001b[0m \u001b[31m64.8 MB/s\u001b[0m eta \u001b[36m0:00:00\u001b[0m\n",
            "\u001b[2K   \u001b[90m━━━━━━━━━━━━━━━━━━━━━━━━━━━━━━━━━━━━━━━━\u001b[0m \u001b[32m2.2/2.2 MB\u001b[0m \u001b[31m76.2 MB/s\u001b[0m eta \u001b[36m0:00:00\u001b[0m\n",
            "\u001b[2K   \u001b[90m━━━━━━━━━━━━━━━━━━━━━━━━━━━━━━━━━━━━━━━━\u001b[0m \u001b[32m1.6/1.6 MB\u001b[0m \u001b[31m65.1 MB/s\u001b[0m eta \u001b[36m0:00:00\u001b[0m\n",
            "\u001b[2K   \u001b[90m━━━━━━━━━━━━━━━━━━━━━━━━━━━━━━━━━━━━━━━━\u001b[0m \u001b[32m93.1/93.1 kB\u001b[0m \u001b[31m5.2 MB/s\u001b[0m eta \u001b[36m0:00:00\u001b[0m\n",
            "\u001b[?25h"
          ]
        }
      ],
      "source": [
        "! pip install esm -q\n",
        "! pip install fair-esm -q"
      ]
    },
    {
      "cell_type": "code",
      "source": [
        "import esm\n",
        "import torch\n",
        "import torch.nn as nn\n",
        "import torch.optim as optim\n",
        "from torch.utils.data import Dataset, DataLoader\n",
        "import numpy as np\n",
        "from sklearn.metrics import accuracy_score, classification_report, confusion_matrix\n",
        "import matplotlib.pyplot as plt\n",
        "from tqdm import tqdm\n",
        "import warnings\n",
        "from IPython.display import display, Markdown\n",
        "warnings.filterwarnings('ignore')\n",
        "\n",
        "print(\"✅ Libraries imported successfully\")\n",
        "print(f\"PyTorch version: {torch.__version__}\")\n",
        "print(f\"CUDA available: {torch.cuda.is_available()}\")\n",
        "device = torch.device('cuda' if torch.cuda.is_available() else 'cpu')\n",
        "print(f\"Using device: {device}\")"
      ],
      "metadata": {
        "colab": {
          "base_uri": "https://localhost:8080/"
        },
        "id": "OaxXyUZAUhA6",
        "outputId": "ba9a716c-3c71-4f44-885e-493bd74dbf60"
      },
      "execution_count": 3,
      "outputs": [
        {
          "output_type": "stream",
          "name": "stdout",
          "text": [
            "✅ Libraries imported successfully\n",
            "PyTorch version: 2.6.0+cu124\n",
            "CUDA available: False\n",
            "Using device: cpu\n"
          ]
        }
      ]
    },
    {
      "cell_type": "code",
      "source": [
        "model_esm, alphabet = esm.pretrained.esm2_t6_8M_UR50D()\n",
        "batch_converter = alphabet.get_batch_converter()\n",
        "model_esm.eval()\n",
        "model_esm = model_esm.to(device)\n",
        "embedding_dim = model_esm.embed_tokens.embedding_dim\n"
      ],
      "metadata": {
        "colab": {
          "base_uri": "https://localhost:8080/"
        },
        "id": "z_rSE9xsZIVm",
        "outputId": "fba921c2-7efd-4b27-e685-281b8c5377e3"
      },
      "execution_count": 4,
      "outputs": [
        {
          "output_type": "stream",
          "name": "stderr",
          "text": [
            "Downloading: \"https://dl.fbaipublicfiles.com/fair-esm/models/esm2_t6_8M_UR50D.pt\" to /root/.cache/torch/hub/checkpoints/esm2_t6_8M_UR50D.pt\n",
            "Downloading: \"https://dl.fbaipublicfiles.com/fair-esm/regression/esm2_t6_8M_UR50D-contact-regression.pt\" to /root/.cache/torch/hub/checkpoints/esm2_t6_8M_UR50D-contact-regression.pt\n"
          ]
        }
      ]
    },
    {
      "cell_type": "code",
      "source": [
        "def q8_to_q3(q8_onehot):\n",
        "    N, L, _ = q8_onehot.shape\n",
        "\n",
        "    q3_onehot = np.zeros((N, L, 4))\n",
        "\n",
        "    # Map H (Helix)\n",
        "    q3_onehot[:, :, 0] = q8_onehot[:, :, 3] + q8_onehot[:, :, 4] + q8_onehot[:, :, 5]\n",
        "    # Map E (Strand)\n",
        "    q3_onehot[:, :, 1] = q8_onehot[:, :, 1] + q8_onehot[:, :, 2]\n",
        "    # Map C (Coil)\n",
        "    q3_onehot[:, :, 2] = q8_onehot[:, :, 0] + q8_onehot[:, :, 6] + q8_onehot[:, :, 7]\n",
        "    # NoSeq\n",
        "    q3_onehot[:, :, 3] = q8_onehot[:, :, 8]\n",
        "\n",
        "    return q3_onehot\n",
        "aa_order = ['A', 'C', 'E', 'D', 'G', 'F', 'I', 'H', 'K', 'M', 'L',\n",
        "            'N', 'Q', 'P', 'S', 'R', 'T', 'W', 'V', 'Y', 'X', 'NoSeq']\n",
        "ss_order = ['H', 'E', 'C', 'NoSeq']\n",
        "\n",
        "def onehot_to_string_with_padding(onehot_array, order, noseq_index, pad_char):\n",
        "    indices = np.argmax(onehot_array, axis=2)\n",
        "    N, L = indices.shape\n",
        "    strings = []\n",
        "    for i in range(N):\n",
        "        seq_chars = []\n",
        "        for idx in indices[i]:\n",
        "            if idx == noseq_index:\n",
        "                seq_chars.append(pad_char)  # Replace NoSeq by pad_char\n",
        "            else:\n",
        "                seq_chars.append(order[idx])\n",
        "        strings.append(''.join(seq_chars))\n",
        "    return strings\n",
        "\n"
      ],
      "metadata": {
        "id": "FLyajAIzUjih"
      },
      "execution_count": 5,
      "outputs": []
    },
    {
      "cell_type": "code",
      "source": [
        "print(embedding_dim)"
      ],
      "metadata": {
        "colab": {
          "base_uri": "https://localhost:8080/"
        },
        "id": "Xa4Q4acEZQUj",
        "outputId": "58bafef3-9204-4b81-e63e-dffb26c2cf9b"
      },
      "execution_count": 6,
      "outputs": [
        {
          "output_type": "stream",
          "name": "stdout",
          "text": [
            "320\n"
          ]
        }
      ]
    },
    {
      "cell_type": "code",
      "source": [
        "class ProteinSSClassifier(nn.Module):\n",
        "    def __init__(self, esm_dim=320, hidden_dim=256, num_classes=3, dropout=0.3):\n",
        "        super().__init__()\n",
        "        self.bilstm = nn.LSTM(esm_dim, hidden_dim, batch_first=True, bidirectional=True)\n",
        "        self.classifier = nn.Sequential(\n",
        "            nn.Linear(hidden_dim*2, hidden_dim),\n",
        "            nn.ReLU(),\n",
        "            nn.Dropout(dropout),\n",
        "            nn.Linear(hidden_dim, num_classes)\n",
        "        )\n",
        "\n",
        "    def forward(self, esm_embeddings):\n",
        "        x, _ = self.bilstm(esm_embeddings)   # (batch, seq_len, hidden_dim*2)\n",
        "        return self.classifier(x)\n",
        "\n",
        "print(\"✅ Classifier model defined\")\n",
        "print(\"Architecture: ESM embeddings -> Hidden layers -> 3 classes (H/E/C)\")\n"
      ],
      "metadata": {
        "colab": {
          "base_uri": "https://localhost:8080/"
        },
        "id": "bBDy1EKMUuRU",
        "outputId": "022fc758-da41-4382-b6b8-170ffac0c8f4"
      },
      "execution_count": 7,
      "outputs": [
        {
          "output_type": "stream",
          "name": "stdout",
          "text": [
            "✅ Classifier model defined\n",
            "Architecture: ESM embeddings -> Hidden layers -> 3 classes (H/E/C)\n"
          ]
        }
      ]
    },
    {
      "cell_type": "code",
      "source": [
        "# Reuse your ProteinSSClassifier class definition from above\n",
        "# Make sure it's defined before loading\n",
        "\n",
        "# 1. Load checkpoint\n",
        "checkpoint = torch.load(\"protein_ss_classifier.pth\", weights_only=False, map_location=\"cpu\")\n",
        "\n",
        "# 2. Extract saved config\n",
        "cfg = checkpoint[\"model_config\"]\n",
        "\n",
        "# 3. Rebuild model using saved hyperparameters\n",
        "classifier = ProteinSSClassifier(\n",
        "    esm_dim=cfg[\"esm_dim\"],\n",
        "    hidden_dim=cfg[\"hidden_dim\"],\n",
        "    num_classes=cfg[\"num_classes\"],\n",
        "    dropout=cfg[\"dropout\"]\n",
        ")\n",
        "\n",
        "# 4. Load weights\n",
        "classifier.load_state_dict(checkpoint[\"model_state_dict\"])\n",
        "classifier.eval()\n",
        "\n",
        "print(\"✅ Model loaded successfully\")\n",
        "print(\"Best validation accuracy:\", checkpoint[\"training_history\"][\"best_val_acc\"])\n"
      ],
      "metadata": {
        "colab": {
          "base_uri": "https://localhost:8080/"
        },
        "id": "5QmzfWT9UvDD",
        "outputId": "037eb55e-c59e-4d59-ead7-1a43be0fe5b1"
      },
      "execution_count": 8,
      "outputs": [
        {
          "output_type": "stream",
          "name": "stdout",
          "text": [
            "✅ Model loaded successfully\n",
            "Best validation accuracy: 0.927569573283859\n"
          ]
        }
      ]
    },
    {
      "cell_type": "markdown",
      "source": [
        "# Predictor\n",
        "\n",
        "This software provides two ways to input protein sequences for secondary structure prediction:\n",
        "\n",
        "1. **Simple String Input:**  \n",
        "   Enter the amino acid sequence directly as a string of letters representing the protein chain.\n",
        "\n",
        "2. **FASTA File Input:**  \n",
        "   Upload protein sequences in FASTA format files, which include a header line followed by the sequence.\n",
        "\n",
        "Choose the input method that best fits your data format.\n"
      ],
      "metadata": {
        "id": "pS4w_VUKcNjM"
      }
    },
    {
      "cell_type": "code",
      "source": [
        "# @title ##run **ESM-Secondary Structure Predictor** from sequence\n",
        "# @markdown Insert the sequence here, then run the cells:\n",
        "def predict_secondary_structure(sequence, model_esm, classifier, batch_converter, device):\n",
        "    \"\"\"Predict secondary structure for a single protein sequence\"\"\"\n",
        "    classifier.eval()\n",
        "\n",
        "    # Prepare sequence\n",
        "    data = [(\"input_seq\", sequence)]\n",
        "    batch_labels, batch_strs, batch_tokens = batch_converter(data)\n",
        "    batch_tokens = batch_tokens.to(device)\n",
        "\n",
        "    with torch.no_grad():\n",
        "        # Get ESM embeddings\n",
        "        results = model_esm(batch_tokens, repr_layers=[model_esm.num_layers])\n",
        "        embeddings = results[\"representations\"][model_esm.num_layers]\n",
        "        embeddings = embeddings[:, 1:-1, :]  # Remove special tokens\n",
        "\n",
        "        # Get predictions\n",
        "        outputs = classifier(embeddings)\n",
        "        predictions = torch.argmax(outputs, dim=-1)\n",
        "\n",
        "        # Convert to letters\n",
        "        ss_map = {0: 'H', 1: 'E', 2: 'C'}\n",
        "        predicted_ss = ''.join([ss_map[int(pred)] for pred in predictions[0]])\n",
        "\n",
        "        # Get confidence scores\n",
        "        probs = torch.softmax(outputs, dim=-1)\n",
        "        confidence = torch.max(probs, dim=-1)[0].mean().item()\n",
        "\n",
        "    return predicted_ss, confidence\n",
        "\n",
        "# Example prediction\n",
        "print(\"🧬 Example Prediction\")\n",
        "print(\"=\" * 30)\n",
        "\n",
        "test_sequence = \"GWSTELEKHREELKEFLKKEGITNVEIRIDNGRLEVRVEGGTERLKRFLEELRQKLEKKGYTVDIKIE\" #@param {type:\"string\"}\n",
        "\n",
        "predicted_ss, confidence = predict_secondary_structure(test_sequence, model_esm, classifier, batch_converter, device)\n",
        "\n",
        "print(f\"Sequence:  {test_sequence}\")\n",
        "print(f\"Predicted: {predicted_ss}\")\n",
        "print(f\"Confidence: {confidence:.4f}\")\n",
        "\n",
        "# # Calculate accuracy for this example\n",
        "# example_acc = sum(1 for t, p in zip(true_ss, predicted_ss) if t == p) / len(true_ss)\n",
        "# print(f\"Example accuracy: {example_acc:.4f}\")\n",
        "\n"
      ],
      "metadata": {
        "cellView": "form",
        "id": "lTDtK0odV5K_"
      },
      "execution_count": null,
      "outputs": []
    },
    {
      "cell_type": "code",
      "source": [
        "# @title ##run **ESM-Secondary Structure Predictor** from FASTA file\n",
        "# @markdown Run the cells, then upload the FASTA file\n",
        "from google.colab import files\n",
        "\n",
        "# Upload FASTA file interactively\n",
        "uploaded = files.upload()\n",
        "\n",
        "# Assuming only one file uploaded:\n",
        "fasta_filename = next(iter(uploaded))\n",
        "\n",
        "def parse_fasta(filename):\n",
        "    sequence_lines = []\n",
        "    with open(filename, 'r') as f:\n",
        "        for line in f:\n",
        "            if line.startswith('>'):\n",
        "                # Skip header lines\n",
        "                continue\n",
        "            sequence_lines.append(line.strip())\n",
        "    # Join all sequence lines into one string\n",
        "    return ''.join(sequence_lines)\n",
        "\n",
        "# Parse uploaded FASTA file\n",
        "test_sequence = parse_fasta(fasta_filename)\n",
        "\n",
        "print(f\"Parsed AA sequence from {fasta_filename}:\")\n",
        "print(test_sequence)\n",
        "\n",
        "# Now run your prediction\n",
        "predicted_ss, confidence = predict_secondary_structure(test_sequence, model_esm, classifier, batch_converter, device)\n",
        "\n",
        "print(f\"\\nSequence:  {test_sequence}\")\n",
        "print(f\"Predicted: {predicted_ss}\")\n",
        "print(f\"Confidence: {confidence:.4f}\")\n"
      ],
      "metadata": {
        "id": "FA5OW_LGo20-",
        "collapsed": true
      },
      "execution_count": null,
      "outputs": []
    },
    {
      "cell_type": "code",
      "source": [],
      "metadata": {
        "id": "lXct9mn-vTEf"
      },
      "execution_count": null,
      "outputs": []
    }
  ]
}